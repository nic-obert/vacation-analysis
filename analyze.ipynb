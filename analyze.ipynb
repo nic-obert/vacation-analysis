{
 "cells": [
  {
   "cell_type": "code",
   "execution_count": 34,
   "metadata": {},
   "outputs": [],
   "source": [
    "import pandas as pd\n",
    "\n",
    "df = pd.read_csv('data.csv')"
   ]
  },
  {
   "cell_type": "code",
   "execution_count": 35,
   "metadata": {},
   "outputs": [],
   "source": [
    "# Remove the Timestamp column\n",
    "df = df.drop(columns=['Timestamp'])"
   ]
  },
  {
   "cell_type": "code",
   "execution_count": 36,
   "metadata": {},
   "outputs": [],
   "source": [
    "# Rename the columns\n",
    "df = df.rename(columns={\n",
    "    \"Thank you for your participation. If you want to receive the survey results, enter your email address here. We won't share your email address with anyone, nor send you any ads.\": 'email',\n",
    "    \"What's your age?\": 'age',\n",
    "    \"What's your gender?\": 'gender',\n",
    "    \"Where do you live?\": 'homeland',\n",
    "    \"Where do you usually enjoy your holidays? Select all that apply.\": 'target',\n",
    "    \"When on vacation, where do you usually stay? Select all that apply.\": 'accommodation',\n",
    "    \"Who do you usually enjoy your holidays with? Select all that apply.\": 'company',\n",
    "    \"What activities best describe your typical summer vacation? Select all that apply.\": 'activities',\n",
    "    \"How do you choose where to go on vacation? Select all that apply.\": 'decision',\n",
    "    \"What means of transport do you normally take when going on vacation? Select all that apply.\": 'transport',\n",
    "    \"How much did you spend in total during your last summer holidays? Use this format: <cost> <currency> (e.g. 350 €)\": 'cost',\n",
    "    \"How much did you enjoy your last summer vacation?\": 'enjoyment',\n",
    "    \"Thank you for your participation. If you want to receive the survey results, enter your email address here. We won't share your email address with anyone, nor send you any ads.\": 'email',\n",
    "})"
   ]
  },
  {
   "cell_type": "code",
   "execution_count": 37,
   "metadata": {},
   "outputs": [],
   "source": [
    "# Extract the email column into a separate array\n",
    "emails = df['email'].values\n",
    "# Remove the email column from the dataframe\n",
    "df = df.drop(columns=['email'])"
   ]
  },
  {
   "cell_type": "code",
   "execution_count": 38,
   "metadata": {},
   "outputs": [],
   "source": [
    "# Change all the homeland values that contain 'europe' to 'europe'\n",
    "df['homeland'] = df['homeland'].apply(lambda x: 'europe' if 'europe' in x.lower() else x)"
   ]
  },
  {
   "cell_type": "code",
   "execution_count": 39,
   "metadata": {},
   "outputs": [],
   "source": [
    "# Change all the gender values that aren't 'Male' or 'Female' into 'Other'\n",
    "df['gender'] = df['gender'].apply(lambda x: 'Other' if x != 'Male' and x != 'Female' else x)"
   ]
  },
  {
   "cell_type": "code",
   "execution_count": 53,
   "metadata": {},
   "outputs": [],
   "source": [
    "# Parse the raw cost values and convert to euros\n",
    "\n",
    "import re\n",
    "\n",
    "\n",
    "def assume_eur_if_no_symbol(string):\n",
    "    try:\n",
    "        return int(string)\n",
    "    except ValueError:\n",
    "        return None\n",
    "\n",
    "\n",
    "def find_number(string) -> int | None:\n",
    "    numbers = re.findall(r'\\d+', string)\n",
    "\n",
    "    if len(numbers) == 0:\n",
    "        return None\n",
    "\n",
    "    return max([int(x) for x in numbers])\n",
    "\n",
    "\n",
    "def parse_cost(string: str) -> int | None:\n",
    "    eur_symbols = ['€', 'eur', 'euro', 'euros']\n",
    "    usd_symbols = ['$', 'usd', 'dollar', 'dollars']\n",
    "    gbp_symbols = ['£', 'gbp', 'pound', 'pounds']\n",
    "    cad_symbols = ['cad']\n",
    "    aud_symbols = ['aud']\n",
    "    all_symbols = eur_symbols + usd_symbols + gbp_symbols + cad_symbols + aud_symbols\n",
    "\n",
    "    string = str(string).lower()\n",
    "\n",
    "    assume_eur = assume_eur_if_no_symbol(string)\n",
    "\n",
    "    # Branch based on currency\n",
    "    if any([x in string for x in eur_symbols]):\n",
    "        return find_number(string)\n",
    "    \n",
    "    elif assume_eur is not None:\n",
    "        return assume_eur\n",
    "\n",
    "    elif any([x in string for x in usd_symbols]):\n",
    "        n = find_number(string)\n",
    "        if n is None:\n",
    "            return None\n",
    "        return int(n * 1.00)\n",
    "    \n",
    "    elif any([x in string for x in gbp_symbols]):\n",
    "        n = find_number(string)\n",
    "        if n is None:\n",
    "            return None\n",
    "        return int(n * 1.15)\n",
    "\n",
    "    elif any([x in string for x in cad_symbols]):\n",
    "        n = find_number(string)\n",
    "        if n is None:\n",
    "            return None\n",
    "        return int(n * 0.76)\n",
    "    \n",
    "    elif any([x in string for x in aud_symbols]):\n",
    "        n = find_number(string)\n",
    "        if n is None:\n",
    "            return None\n",
    "        return int(n * 0.67)\n",
    "\n",
    "\n",
    "df['cost'] = df['cost'].apply(parse_cost)\n"
   ]
  },
  {
   "cell_type": "code",
   "execution_count": 56,
   "metadata": {},
   "outputs": [
    {
     "data": {
      "text/plain": [
       "0      100.0\n",
       "1      750.0\n",
       "2      234.0\n",
       "3        NaN\n",
       "4        NaN\n",
       "5     8000.0\n",
       "6        3.0\n",
       "7      400.0\n",
       "8        NaN\n",
       "9        NaN\n",
       "10       NaN\n",
       "11    1000.0\n",
       "12    5000.0\n",
       "13    2000.0\n",
       "14    1437.0\n",
       "15    1500.0\n",
       "16     800.0\n",
       "17       NaN\n",
       "18     684.0\n",
       "19     919.0\n",
       "Name: cost, dtype: float64"
      ]
     },
     "execution_count": 56,
     "metadata": {},
     "output_type": "execute_result"
    }
   ],
   "source": [
    "df['cost'].head(20)"
   ]
  }
 ],
 "metadata": {
  "kernelspec": {
   "display_name": "Python 3.10.5 64-bit",
   "language": "python",
   "name": "python3"
  },
  "language_info": {
   "codemirror_mode": {
    "name": "ipython",
    "version": 3
   },
   "file_extension": ".py",
   "mimetype": "text/x-python",
   "name": "python",
   "nbconvert_exporter": "python",
   "pygments_lexer": "ipython3",
   "version": "3.10.6"
  },
  "orig_nbformat": 4,
  "vscode": {
   "interpreter": {
    "hash": "31f2aee4e71d21fbe5cf8b01ff0e069b9275f58929596ceb00d14d90e3e16cd6"
   }
  }
 },
 "nbformat": 4,
 "nbformat_minor": 2
}
